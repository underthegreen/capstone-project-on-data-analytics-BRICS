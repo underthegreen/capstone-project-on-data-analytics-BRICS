This is the learning of Data Analysis 
